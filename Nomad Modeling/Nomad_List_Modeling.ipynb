{
 "cells": [
  {
   "cell_type": "code",
   "execution_count": 1,
   "id": "21d03db9-0001-42ea-983b-7b778279a2a8",
   "metadata": {
    "tags": []
   },
   "outputs": [],
   "source": [
    "import pandas as pd\n",
    "import numpy as np\n",
    "import matplotlib.pyplot as plt\n",
    "import time\n",
    "from sklearn.preprocessing import StandardScaler, OrdinalEncoder\n",
    "from sklearn.impute import SimpleImputer\n",
    "from sklearn.pipeline import Pipeline\n",
    "from sklearn.compose import ColumnTransformer\n",
    "from sklearn.model_selection import train_test_split, KFold, GridSearchCV, RepeatedKFold\n",
    "from sklearn.metrics import mean_squared_error, root_mean_squared_error, mean_absolute_error, r2_score\n",
    "from sklearn.linear_model import LinearRegression, Lasso, RidgeCV, LassoCV, ElasticNetCV\n",
    "from sklearn.ensemble import RandomForestRegressor, GradientBoostingRegressor, HistGradientBoostingRegressor\n",
    "from sklearn.neural_network import MLPRegressor\n",
    "from sklearn.inspection import permutation_importance\n",
    "from sklearn.feature_selection import SelectFromModel"
   ]
  },
  {
   "cell_type": "code",
   "execution_count": 2,
   "id": "8db431dc-d2f7-4fa5-91ae-a3e6c6024a28",
   "metadata": {
    "tags": []
   },
   "outputs": [],
   "source": [
    "# Load data\n",
    "cities = pd.read_csv('Nomad.csv')\n",
    "cities.drop(columns='Unnamed: 0', inplace=True)\n",
    "\n",
    "# Separate features and targets\n",
    "y = cities['Total_Score']\n",
    "X = cities.drop(columns=['Total_Score', 'City', 'Rank', 'Unliked_By_Members', \n",
    "                         'Temperature_now_celcius', 'Temperature_now_Feels_Like_Celcius'])\n",
    "\n",
    "# Fix a few columns\n",
    "cities['Liked_By_Members'] = cities['Liked_By_Members'].fillna(0)\n",
    "cities['Cost'] = cities['Cost'].str.replace(',','')\n",
    "cities['Cost'] = cities.Cost.astype(int)\n",
    "cities['Income_Level'] = cities['Income_Level'].str.replace(',','')\n",
    "cities['Income_Level'] = cities.Income_Level.astype(int)"
   ]
  },
  {
   "cell_type": "code",
   "execution_count": 3,
   "id": "8da583a4-c3f2-4108-96ad-45c5f176d9b0",
   "metadata": {
    "tags": []
   },
   "outputs": [],
   "source": [
    "# Data preprocessing\n",
    "numeric_features = X.select_dtypes(include=['int32', 'int64', 'float64']).columns\n",
    "categor_features = X.select_dtypes(include=['object']).columns\n",
    "\n",
    "numeric_encoder = Pipeline(steps=[\n",
    "    ('imputer', SimpleImputer(strategy='mean')),\n",
    "    ('scaler', StandardScaler())\n",
    "])\n",
    "categor_encoder = Pipeline(steps=[\n",
    "    ('imputer', SimpleImputer(strategy='most_frequent')),\n",
    "    ('encoder', OrdinalEncoder())\n",
    "])\n",
    "\n",
    "preprocessor = ColumnTransformer(\n",
    "    transformers=[\n",
    "        ('numeric', numeric_encoder, numeric_features),\n",
    "        ('categor', categor_encoder, categor_features)])\n",
    "\n",
    "X_preprocessed = preprocessor.fit_transform(X)\n",
    "\n",
    "# Split into train and test set\n",
    "X_train, X_test, y_train, y_test = train_test_split(X_preprocessed, y, test_size=0.1, random_state=478)"
   ]
  },
  {
   "cell_type": "markdown",
   "id": "f201dcd0-3159-429e-840e-ab24e34f9aa3",
   "metadata": {},
   "source": [
    "## Linear Model"
   ]
  },
  {
   "cell_type": "code",
   "execution_count": 4,
   "id": "7500bafa-936a-474f-a83c-743072283a8b",
   "metadata": {
    "tags": []
   },
   "outputs": [
    {
     "data": {
      "text/html": [
       "<style>#sk-container-id-1 {\n",
       "  /* Definition of color scheme common for light and dark mode */\n",
       "  --sklearn-color-text: black;\n",
       "  --sklearn-color-line: gray;\n",
       "  /* Definition of color scheme for unfitted estimators */\n",
       "  --sklearn-color-unfitted-level-0: #fff5e6;\n",
       "  --sklearn-color-unfitted-level-1: #f6e4d2;\n",
       "  --sklearn-color-unfitted-level-2: #ffe0b3;\n",
       "  --sklearn-color-unfitted-level-3: chocolate;\n",
       "  /* Definition of color scheme for fitted estimators */\n",
       "  --sklearn-color-fitted-level-0: #f0f8ff;\n",
       "  --sklearn-color-fitted-level-1: #d4ebff;\n",
       "  --sklearn-color-fitted-level-2: #b3dbfd;\n",
       "  --sklearn-color-fitted-level-3: cornflowerblue;\n",
       "\n",
       "  /* Specific color for light theme */\n",
       "  --sklearn-color-text-on-default-background: var(--sg-text-color, var(--theme-code-foreground, var(--jp-content-font-color1, black)));\n",
       "  --sklearn-color-background: var(--sg-background-color, var(--theme-background, var(--jp-layout-color0, white)));\n",
       "  --sklearn-color-border-box: var(--sg-text-color, var(--theme-code-foreground, var(--jp-content-font-color1, black)));\n",
       "  --sklearn-color-icon: #696969;\n",
       "\n",
       "  @media (prefers-color-scheme: dark) {\n",
       "    /* Redefinition of color scheme for dark theme */\n",
       "    --sklearn-color-text-on-default-background: var(--sg-text-color, var(--theme-code-foreground, var(--jp-content-font-color1, white)));\n",
       "    --sklearn-color-background: var(--sg-background-color, var(--theme-background, var(--jp-layout-color0, #111)));\n",
       "    --sklearn-color-border-box: var(--sg-text-color, var(--theme-code-foreground, var(--jp-content-font-color1, white)));\n",
       "    --sklearn-color-icon: #878787;\n",
       "  }\n",
       "}\n",
       "\n",
       "#sk-container-id-1 {\n",
       "  color: var(--sklearn-color-text);\n",
       "}\n",
       "\n",
       "#sk-container-id-1 pre {\n",
       "  padding: 0;\n",
       "}\n",
       "\n",
       "#sk-container-id-1 input.sk-hidden--visually {\n",
       "  border: 0;\n",
       "  clip: rect(1px 1px 1px 1px);\n",
       "  clip: rect(1px, 1px, 1px, 1px);\n",
       "  height: 1px;\n",
       "  margin: -1px;\n",
       "  overflow: hidden;\n",
       "  padding: 0;\n",
       "  position: absolute;\n",
       "  width: 1px;\n",
       "}\n",
       "\n",
       "#sk-container-id-1 div.sk-dashed-wrapped {\n",
       "  border: 1px dashed var(--sklearn-color-line);\n",
       "  margin: 0 0.4em 0.5em 0.4em;\n",
       "  box-sizing: border-box;\n",
       "  padding-bottom: 0.4em;\n",
       "  background-color: var(--sklearn-color-background);\n",
       "}\n",
       "\n",
       "#sk-container-id-1 div.sk-container {\n",
       "  /* jupyter's `normalize.less` sets `[hidden] { display: none; }`\n",
       "     but bootstrap.min.css set `[hidden] { display: none !important; }`\n",
       "     so we also need the `!important` here to be able to override the\n",
       "     default hidden behavior on the sphinx rendered scikit-learn.org.\n",
       "     See: https://github.com/scikit-learn/scikit-learn/issues/21755 */\n",
       "  display: inline-block !important;\n",
       "  position: relative;\n",
       "}\n",
       "\n",
       "#sk-container-id-1 div.sk-text-repr-fallback {\n",
       "  display: none;\n",
       "}\n",
       "\n",
       "div.sk-parallel-item,\n",
       "div.sk-serial,\n",
       "div.sk-item {\n",
       "  /* draw centered vertical line to link estimators */\n",
       "  background-image: linear-gradient(var(--sklearn-color-text-on-default-background), var(--sklearn-color-text-on-default-background));\n",
       "  background-size: 2px 100%;\n",
       "  background-repeat: no-repeat;\n",
       "  background-position: center center;\n",
       "}\n",
       "\n",
       "/* Parallel-specific style estimator block */\n",
       "\n",
       "#sk-container-id-1 div.sk-parallel-item::after {\n",
       "  content: \"\";\n",
       "  width: 100%;\n",
       "  border-bottom: 2px solid var(--sklearn-color-text-on-default-background);\n",
       "  flex-grow: 1;\n",
       "}\n",
       "\n",
       "#sk-container-id-1 div.sk-parallel {\n",
       "  display: flex;\n",
       "  align-items: stretch;\n",
       "  justify-content: center;\n",
       "  background-color: var(--sklearn-color-background);\n",
       "  position: relative;\n",
       "}\n",
       "\n",
       "#sk-container-id-1 div.sk-parallel-item {\n",
       "  display: flex;\n",
       "  flex-direction: column;\n",
       "}\n",
       "\n",
       "#sk-container-id-1 div.sk-parallel-item:first-child::after {\n",
       "  align-self: flex-end;\n",
       "  width: 50%;\n",
       "}\n",
       "\n",
       "#sk-container-id-1 div.sk-parallel-item:last-child::after {\n",
       "  align-self: flex-start;\n",
       "  width: 50%;\n",
       "}\n",
       "\n",
       "#sk-container-id-1 div.sk-parallel-item:only-child::after {\n",
       "  width: 0;\n",
       "}\n",
       "\n",
       "/* Serial-specific style estimator block */\n",
       "\n",
       "#sk-container-id-1 div.sk-serial {\n",
       "  display: flex;\n",
       "  flex-direction: column;\n",
       "  align-items: center;\n",
       "  background-color: var(--sklearn-color-background);\n",
       "  padding-right: 1em;\n",
       "  padding-left: 1em;\n",
       "}\n",
       "\n",
       "\n",
       "/* Toggleable style: style used for estimator/Pipeline/ColumnTransformer box that is\n",
       "clickable and can be expanded/collapsed.\n",
       "- Pipeline and ColumnTransformer use this feature and define the default style\n",
       "- Estimators will overwrite some part of the style using the `sk-estimator` class\n",
       "*/\n",
       "\n",
       "/* Pipeline and ColumnTransformer style (default) */\n",
       "\n",
       "#sk-container-id-1 div.sk-toggleable {\n",
       "  /* Default theme specific background. It is overwritten whether we have a\n",
       "  specific estimator or a Pipeline/ColumnTransformer */\n",
       "  background-color: var(--sklearn-color-background);\n",
       "}\n",
       "\n",
       "/* Toggleable label */\n",
       "#sk-container-id-1 label.sk-toggleable__label {\n",
       "  cursor: pointer;\n",
       "  display: block;\n",
       "  width: 100%;\n",
       "  margin-bottom: 0;\n",
       "  padding: 0.5em;\n",
       "  box-sizing: border-box;\n",
       "  text-align: center;\n",
       "}\n",
       "\n",
       "#sk-container-id-1 label.sk-toggleable__label-arrow:before {\n",
       "  /* Arrow on the left of the label */\n",
       "  content: \"▸\";\n",
       "  float: left;\n",
       "  margin-right: 0.25em;\n",
       "  color: var(--sklearn-color-icon);\n",
       "}\n",
       "\n",
       "#sk-container-id-1 label.sk-toggleable__label-arrow:hover:before {\n",
       "  color: var(--sklearn-color-text);\n",
       "}\n",
       "\n",
       "/* Toggleable content - dropdown */\n",
       "\n",
       "#sk-container-id-1 div.sk-toggleable__content {\n",
       "  max-height: 0;\n",
       "  max-width: 0;\n",
       "  overflow: hidden;\n",
       "  text-align: left;\n",
       "  /* unfitted */\n",
       "  background-color: var(--sklearn-color-unfitted-level-0);\n",
       "}\n",
       "\n",
       "#sk-container-id-1 div.sk-toggleable__content.fitted {\n",
       "  /* fitted */\n",
       "  background-color: var(--sklearn-color-fitted-level-0);\n",
       "}\n",
       "\n",
       "#sk-container-id-1 div.sk-toggleable__content pre {\n",
       "  margin: 0.2em;\n",
       "  border-radius: 0.25em;\n",
       "  color: var(--sklearn-color-text);\n",
       "  /* unfitted */\n",
       "  background-color: var(--sklearn-color-unfitted-level-0);\n",
       "}\n",
       "\n",
       "#sk-container-id-1 div.sk-toggleable__content.fitted pre {\n",
       "  /* unfitted */\n",
       "  background-color: var(--sklearn-color-fitted-level-0);\n",
       "}\n",
       "\n",
       "#sk-container-id-1 input.sk-toggleable__control:checked~div.sk-toggleable__content {\n",
       "  /* Expand drop-down */\n",
       "  max-height: 200px;\n",
       "  max-width: 100%;\n",
       "  overflow: auto;\n",
       "}\n",
       "\n",
       "#sk-container-id-1 input.sk-toggleable__control:checked~label.sk-toggleable__label-arrow:before {\n",
       "  content: \"▾\";\n",
       "}\n",
       "\n",
       "/* Pipeline/ColumnTransformer-specific style */\n",
       "\n",
       "#sk-container-id-1 div.sk-label input.sk-toggleable__control:checked~label.sk-toggleable__label {\n",
       "  color: var(--sklearn-color-text);\n",
       "  background-color: var(--sklearn-color-unfitted-level-2);\n",
       "}\n",
       "\n",
       "#sk-container-id-1 div.sk-label.fitted input.sk-toggleable__control:checked~label.sk-toggleable__label {\n",
       "  background-color: var(--sklearn-color-fitted-level-2);\n",
       "}\n",
       "\n",
       "/* Estimator-specific style */\n",
       "\n",
       "/* Colorize estimator box */\n",
       "#sk-container-id-1 div.sk-estimator input.sk-toggleable__control:checked~label.sk-toggleable__label {\n",
       "  /* unfitted */\n",
       "  background-color: var(--sklearn-color-unfitted-level-2);\n",
       "}\n",
       "\n",
       "#sk-container-id-1 div.sk-estimator.fitted input.sk-toggleable__control:checked~label.sk-toggleable__label {\n",
       "  /* fitted */\n",
       "  background-color: var(--sklearn-color-fitted-level-2);\n",
       "}\n",
       "\n",
       "#sk-container-id-1 div.sk-label label.sk-toggleable__label,\n",
       "#sk-container-id-1 div.sk-label label {\n",
       "  /* The background is the default theme color */\n",
       "  color: var(--sklearn-color-text-on-default-background);\n",
       "}\n",
       "\n",
       "/* On hover, darken the color of the background */\n",
       "#sk-container-id-1 div.sk-label:hover label.sk-toggleable__label {\n",
       "  color: var(--sklearn-color-text);\n",
       "  background-color: var(--sklearn-color-unfitted-level-2);\n",
       "}\n",
       "\n",
       "/* Label box, darken color on hover, fitted */\n",
       "#sk-container-id-1 div.sk-label.fitted:hover label.sk-toggleable__label.fitted {\n",
       "  color: var(--sklearn-color-text);\n",
       "  background-color: var(--sklearn-color-fitted-level-2);\n",
       "}\n",
       "\n",
       "/* Estimator label */\n",
       "\n",
       "#sk-container-id-1 div.sk-label label {\n",
       "  font-family: monospace;\n",
       "  font-weight: bold;\n",
       "  display: inline-block;\n",
       "  line-height: 1.2em;\n",
       "}\n",
       "\n",
       "#sk-container-id-1 div.sk-label-container {\n",
       "  text-align: center;\n",
       "}\n",
       "\n",
       "/* Estimator-specific */\n",
       "#sk-container-id-1 div.sk-estimator {\n",
       "  font-family: monospace;\n",
       "  border: 1px dotted var(--sklearn-color-border-box);\n",
       "  border-radius: 0.25em;\n",
       "  box-sizing: border-box;\n",
       "  margin-bottom: 0.5em;\n",
       "  /* unfitted */\n",
       "  background-color: var(--sklearn-color-unfitted-level-0);\n",
       "}\n",
       "\n",
       "#sk-container-id-1 div.sk-estimator.fitted {\n",
       "  /* fitted */\n",
       "  background-color: var(--sklearn-color-fitted-level-0);\n",
       "}\n",
       "\n",
       "/* on hover */\n",
       "#sk-container-id-1 div.sk-estimator:hover {\n",
       "  /* unfitted */\n",
       "  background-color: var(--sklearn-color-unfitted-level-2);\n",
       "}\n",
       "\n",
       "#sk-container-id-1 div.sk-estimator.fitted:hover {\n",
       "  /* fitted */\n",
       "  background-color: var(--sklearn-color-fitted-level-2);\n",
       "}\n",
       "\n",
       "/* Specification for estimator info (e.g. \"i\" and \"?\") */\n",
       "\n",
       "/* Common style for \"i\" and \"?\" */\n",
       "\n",
       ".sk-estimator-doc-link,\n",
       "a:link.sk-estimator-doc-link,\n",
       "a:visited.sk-estimator-doc-link {\n",
       "  float: right;\n",
       "  font-size: smaller;\n",
       "  line-height: 1em;\n",
       "  font-family: monospace;\n",
       "  background-color: var(--sklearn-color-background);\n",
       "  border-radius: 1em;\n",
       "  height: 1em;\n",
       "  width: 1em;\n",
       "  text-decoration: none !important;\n",
       "  margin-left: 1ex;\n",
       "  /* unfitted */\n",
       "  border: var(--sklearn-color-unfitted-level-1) 1pt solid;\n",
       "  color: var(--sklearn-color-unfitted-level-1);\n",
       "}\n",
       "\n",
       ".sk-estimator-doc-link.fitted,\n",
       "a:link.sk-estimator-doc-link.fitted,\n",
       "a:visited.sk-estimator-doc-link.fitted {\n",
       "  /* fitted */\n",
       "  border: var(--sklearn-color-fitted-level-1) 1pt solid;\n",
       "  color: var(--sklearn-color-fitted-level-1);\n",
       "}\n",
       "\n",
       "/* On hover */\n",
       "div.sk-estimator:hover .sk-estimator-doc-link:hover,\n",
       ".sk-estimator-doc-link:hover,\n",
       "div.sk-label-container:hover .sk-estimator-doc-link:hover,\n",
       ".sk-estimator-doc-link:hover {\n",
       "  /* unfitted */\n",
       "  background-color: var(--sklearn-color-unfitted-level-3);\n",
       "  color: var(--sklearn-color-background);\n",
       "  text-decoration: none;\n",
       "}\n",
       "\n",
       "div.sk-estimator.fitted:hover .sk-estimator-doc-link.fitted:hover,\n",
       ".sk-estimator-doc-link.fitted:hover,\n",
       "div.sk-label-container:hover .sk-estimator-doc-link.fitted:hover,\n",
       ".sk-estimator-doc-link.fitted:hover {\n",
       "  /* fitted */\n",
       "  background-color: var(--sklearn-color-fitted-level-3);\n",
       "  color: var(--sklearn-color-background);\n",
       "  text-decoration: none;\n",
       "}\n",
       "\n",
       "/* Span, style for the box shown on hovering the info icon */\n",
       ".sk-estimator-doc-link span {\n",
       "  display: none;\n",
       "  z-index: 9999;\n",
       "  position: relative;\n",
       "  font-weight: normal;\n",
       "  right: .2ex;\n",
       "  padding: .5ex;\n",
       "  margin: .5ex;\n",
       "  width: min-content;\n",
       "  min-width: 20ex;\n",
       "  max-width: 50ex;\n",
       "  color: var(--sklearn-color-text);\n",
       "  box-shadow: 2pt 2pt 4pt #999;\n",
       "  /* unfitted */\n",
       "  background: var(--sklearn-color-unfitted-level-0);\n",
       "  border: .5pt solid var(--sklearn-color-unfitted-level-3);\n",
       "}\n",
       "\n",
       ".sk-estimator-doc-link.fitted span {\n",
       "  /* fitted */\n",
       "  background: var(--sklearn-color-fitted-level-0);\n",
       "  border: var(--sklearn-color-fitted-level-3);\n",
       "}\n",
       "\n",
       ".sk-estimator-doc-link:hover span {\n",
       "  display: block;\n",
       "}\n",
       "\n",
       "/* \"?\"-specific style due to the `<a>` HTML tag */\n",
       "\n",
       "#sk-container-id-1 a.estimator_doc_link {\n",
       "  float: right;\n",
       "  font-size: 1rem;\n",
       "  line-height: 1em;\n",
       "  font-family: monospace;\n",
       "  background-color: var(--sklearn-color-background);\n",
       "  border-radius: 1rem;\n",
       "  height: 1rem;\n",
       "  width: 1rem;\n",
       "  text-decoration: none;\n",
       "  /* unfitted */\n",
       "  color: var(--sklearn-color-unfitted-level-1);\n",
       "  border: var(--sklearn-color-unfitted-level-1) 1pt solid;\n",
       "}\n",
       "\n",
       "#sk-container-id-1 a.estimator_doc_link.fitted {\n",
       "  /* fitted */\n",
       "  border: var(--sklearn-color-fitted-level-1) 1pt solid;\n",
       "  color: var(--sklearn-color-fitted-level-1);\n",
       "}\n",
       "\n",
       "/* On hover */\n",
       "#sk-container-id-1 a.estimator_doc_link:hover {\n",
       "  /* unfitted */\n",
       "  background-color: var(--sklearn-color-unfitted-level-3);\n",
       "  color: var(--sklearn-color-background);\n",
       "  text-decoration: none;\n",
       "}\n",
       "\n",
       "#sk-container-id-1 a.estimator_doc_link.fitted:hover {\n",
       "  /* fitted */\n",
       "  background-color: var(--sklearn-color-fitted-level-3);\n",
       "}\n",
       "</style><div id=\"sk-container-id-1\" class=\"sk-top-container\"><div class=\"sk-text-repr-fallback\"><pre>LinearRegression()</pre><b>In a Jupyter environment, please rerun this cell to show the HTML representation or trust the notebook. <br />On GitHub, the HTML representation is unable to render, please try loading this page with nbviewer.org.</b></div><div class=\"sk-container\" hidden><div class=\"sk-item\"><div class=\"sk-estimator fitted sk-toggleable\"><input class=\"sk-toggleable__control sk-hidden--visually\" id=\"sk-estimator-id-1\" type=\"checkbox\" checked><label for=\"sk-estimator-id-1\" class=\"sk-toggleable__label fitted sk-toggleable__label-arrow fitted\">&nbsp;&nbsp;LinearRegression<a class=\"sk-estimator-doc-link fitted\" rel=\"noreferrer\" target=\"_blank\" href=\"https://scikit-learn.org/1.4/modules/generated/sklearn.linear_model.LinearRegression.html\">?<span>Documentation for LinearRegression</span></a><span class=\"sk-estimator-doc-link fitted\">i<span>Fitted</span></span></label><div class=\"sk-toggleable__content fitted\"><pre>LinearRegression()</pre></div> </div></div></div></div>"
      ],
      "text/plain": [
       "LinearRegression()"
      ]
     },
     "execution_count": 4,
     "metadata": {},
     "output_type": "execute_result"
    }
   ],
   "source": [
    "reg_model = LinearRegression()\n",
    "reg_model.fit(X_train, y_train)"
   ]
  },
  {
   "cell_type": "markdown",
   "id": "5b79c0a7-f3e6-42dc-a980-219a00cd6dd5",
   "metadata": {},
   "source": [
    "## Models"
   ]
  },
  {
   "cell_type": "code",
   "execution_count": 5,
   "id": "8b3fceed-d6dd-4f09-baec-5cdf6a3206af",
   "metadata": {
    "tags": []
   },
   "outputs": [],
   "source": [
    "# Cross validation to tune model parameters\n",
    "models = {\n",
    "    'Random Forest': RandomForestRegressor(\n",
    "        random_state=478\n",
    "    ),\n",
    "    'Gradient Boosting': GradientBoostingRegressor(\n",
    "        random_state=478\n",
    "    ),\n",
    "    'Neural Network': MLPRegressor(\n",
    "        random_state=478, max_iter=3000, early_stopping=True\n",
    "    )\n",
    "}\n",
    "param_grids = {\n",
    "    'Random Forest': {'n_estimators': [10, 50, 100, 250]},\n",
    "    \n",
    "    \"Gradient Boosting\": {\"max_depth\": [3, 5, 7], \n",
    "                          \"learning_rate\": [0.01, 0.1, 0.5],\n",
    "                          \"n_estimators\": [50, 100, 500]},\n",
    "    \n",
    "    'Hist Gradient Boosting': {'max_iter': [10, 50, 100, 500]},\n",
    "    \n",
    "    'Neural Network': {'alpha': [0.0001, 0.001, 0.01],\n",
    "                       'hidden_layer_sizes': [(100,), \n",
    "                                              (10,10,10,10,10), \n",
    "                                              (100,100,100,100,100), \n",
    "                                              (10,10,10,10,10,10,10,10)]}\n",
    "}\n",
    "cv = KFold(n_splits=6, shuffle=True, random_state=478)\n",
    "\n",
    "tuning_results = []\n",
    "for name, model in models.items():\n",
    "    grid_search = GridSearchCV(\n",
    "        estimator=model,\n",
    "        param_grid=param_grids[name],\n",
    "        return_train_score=True,\n",
    "        cv=cv,\n",
    "    ).fit(X_train, y_train)\n",
    "    result = {'model': name, 'cv_results': pd.DataFrame(grid_search.cv_results_)}\n",
    "    tuning_results.append(result)"
   ]
  },
  {
   "cell_type": "code",
   "execution_count": 6,
   "id": "e4d78e25-38ac-4e14-a102-55e7a292babb",
   "metadata": {
    "tags": []
   },
   "outputs": [
    {
     "data": {
      "text/plain": [
       "{'Linear Regression': LinearRegression(),\n",
       " 'Random Forest': RandomForestRegressor(n_estimators=50, random_state=478),\n",
       " 'Gradient Boosting': GradientBoostingRegressor(n_estimators=500, random_state=478),\n",
       " 'Neural Network': MLPRegressor(early_stopping=True,\n",
       "              hidden_layer_sizes=(10, 10, 10, 10, 10, 10, 10, 10), max_iter=3000,\n",
       "              random_state=478)}"
      ]
     },
     "execution_count": 6,
     "metadata": {},
     "output_type": "execute_result"
    }
   ],
   "source": [
    "# Put all the models fit in one place for later evaluation\n",
    "best_models = {}\n",
    "best_models['Linear Regression'] = reg_model   # Add the linear model fit earlier\n",
    "\n",
    "# Select and fit the best models according to CV parameter tuning\n",
    "for result in tuning_results:\n",
    "    model_name = result['model']\n",
    "    cv_results = result['cv_results']\n",
    "    \n",
    "    best_index = cv_results['mean_test_score'].idxmax()\n",
    "    best_params = cv_results.loc[best_index]['params']\n",
    "    best_model = models[model_name].set_params(**best_params)\n",
    "    \n",
    "    best_model.fit(X_train, y_train)\n",
    "    best_models[model_name] = best_model\n",
    "    \n",
    "best_models"
   ]
  },
  {
   "cell_type": "markdown",
   "id": "e1cf3f74-ac1d-4ed0-8999-cb19b860652b",
   "metadata": {},
   "source": [
    "## Model Evaluation"
   ]
  },
  {
   "cell_type": "code",
   "execution_count": 7,
   "id": "122ef57d-9287-47f0-9125-d371d0fb989a",
   "metadata": {
    "tags": []
   },
   "outputs": [
    {
     "data": {
      "text/html": [
       "<div>\n",
       "<style scoped>\n",
       "    .dataframe tbody tr th:only-of-type {\n",
       "        vertical-align: middle;\n",
       "    }\n",
       "\n",
       "    .dataframe tbody tr th {\n",
       "        vertical-align: top;\n",
       "    }\n",
       "\n",
       "    .dataframe thead th {\n",
       "        text-align: right;\n",
       "    }\n",
       "</style>\n",
       "<table border=\"1\" class=\"dataframe\">\n",
       "  <thead>\n",
       "    <tr style=\"text-align: right;\">\n",
       "      <th></th>\n",
       "      <th>Model</th>\n",
       "      <th>MSE</th>\n",
       "      <th>MAE</th>\n",
       "      <th>R^2</th>\n",
       "    </tr>\n",
       "  </thead>\n",
       "  <tbody>\n",
       "    <tr>\n",
       "      <th>0</th>\n",
       "      <td>Linear Regression</td>\n",
       "      <td>0.066682</td>\n",
       "      <td>0.187255</td>\n",
       "      <td>0.609881</td>\n",
       "    </tr>\n",
       "    <tr>\n",
       "      <th>1</th>\n",
       "      <td>Random Forest</td>\n",
       "      <td>0.027677</td>\n",
       "      <td>0.107644</td>\n",
       "      <td>0.838080</td>\n",
       "    </tr>\n",
       "    <tr>\n",
       "      <th>2</th>\n",
       "      <td>Gradient Boosting</td>\n",
       "      <td>0.027534</td>\n",
       "      <td>0.102063</td>\n",
       "      <td>0.838913</td>\n",
       "    </tr>\n",
       "    <tr>\n",
       "      <th>3</th>\n",
       "      <td>Neural Network</td>\n",
       "      <td>0.155604</td>\n",
       "      <td>0.293030</td>\n",
       "      <td>0.089649</td>\n",
       "    </tr>\n",
       "  </tbody>\n",
       "</table>\n",
       "</div>"
      ],
      "text/plain": [
       "               Model       MSE       MAE       R^2\n",
       "0  Linear Regression  0.066682  0.187255  0.609881\n",
       "1      Random Forest  0.027677  0.107644  0.838080\n",
       "2  Gradient Boosting  0.027534  0.102063  0.838913\n",
       "3     Neural Network  0.155604  0.293030  0.089649"
      ]
     },
     "execution_count": 7,
     "metadata": {},
     "output_type": "execute_result"
    }
   ],
   "source": [
    "evaluation_results = []\n",
    "\n",
    "for model_name, model in best_models.items():\n",
    "    y_pred = model.predict(X_test)\n",
    "    mse = mean_squared_error(y_test, y_pred)\n",
    "    mae = mean_absolute_error(y_test, y_pred)\n",
    "    r2 = r2_score(y_test, y_pred)\n",
    "    result = {\n",
    "        \"Model\": model_name,\n",
    "        \"MSE\": mse,\n",
    "        \"MAE\": mae,\n",
    "        \"R^2\": r2\n",
    "    }\n",
    "    evaluation_results.append(result)\n",
    "\n",
    "evaluation_df = pd.DataFrame(evaluation_results)\n",
    "evaluation_df"
   ]
  },
  {
   "cell_type": "markdown",
   "id": "b70e85a2-a6f9-46bf-af55-fc0a46baf26f",
   "metadata": {
    "tags": []
   },
   "source": [
    "## Feature Importance"
   ]
  },
  {
   "cell_type": "code",
   "execution_count": 8,
   "id": "a68be71a-8d0b-4779-aca8-7f688585194b",
   "metadata": {
    "tags": []
   },
   "outputs": [
    {
     "data": {
      "image/png": "[encoded data removed]",
      "text/plain": [
       "<Figure size 640x480 with 1 Axes>"
      ]
     },
     "metadata": {},
     "output_type": "display_data"
    }
   ],
   "source": [
    "# Gradient Boosting Permutation Importance\n",
    "gb_model = best_models['Gradient Boosting']\n",
    "\n",
    "result = permutation_importance(\n",
    "    gb_model, X_test, y_test, n_repeats=10, random_state=478\n",
    ")\n",
    "\n",
    "sorted_importances_idx = result.importances_mean.argsort()\n",
    "importances = pd.DataFrame(\n",
    "    result.importances[sorted_importances_idx].T,\n",
    "    columns=X.columns[sorted_importances_idx],\n",
    ")\n",
    "\n",
    "# Select the top N most important variables\n",
    "top_n = 10\n",
    "top_importances = importances.iloc[:, -top_n:]\n",
    "\n",
    "ax = top_importances.plot.box(vert=False, whis=10)\n",
    "ax.set_title(\"Gradient Boosting Permutation Importances (Test Dataset)\")\n",
    "ax.axvline(x=0, color=\"k\", linestyle=\"--\")\n",
    "ax.set_xlabel(\"Decrease in accuracy score\")\n",
    "ax.figure.tight_layout()"
   ]
  },
  {
   "cell_type": "code",
   "execution_count": 9,
   "id": "4f9d156e-4aca-4b04-96b7-0c0277421080",
   "metadata": {
    "tags": []
   },
   "outputs": [
    {
     "data": {
      "image/png": "[encoded data removed]",
      "text/plain": [
       "<Figure size 640x480 with 1 Axes>"
      ]
     },
     "metadata": {},
     "output_type": "display_data"
    }
   ],
   "source": [
    "# Random Forest Permutation Importance\n",
    "rf_model = best_models['Random Forest']\n",
    "\n",
    "result = permutation_importance(\n",
    "    rf_model, X_test, y_test, n_repeats=10, random_state=478\n",
    ")\n",
    "\n",
    "sorted_importances_idx = result.importances_mean.argsort()\n",
    "importances = pd.DataFrame(\n",
    "    result.importances[sorted_importances_idx].T,\n",
    "    columns=X.columns[sorted_importances_idx],\n",
    ")\n",
    "\n",
    "# Select the top N most important variables\n",
    "top_n = 10\n",
    "top_importances = importances.iloc[:, -top_n:]\n",
    "\n",
    "ax = top_importances.plot.box(vert=False, whis=10)\n",
    "ax.set_title(\"Random Forest Permutation Importances (Test Dataset)\")\n",
    "ax.axvline(x=0, color=\"k\", linestyle=\"--\")\n",
    "ax.set_xlabel(\"Decrease in accuracy score\")\n",
    "ax.figure.tight_layout()"
   ]
  },
  {
   "cell_type": "markdown",
   "id": "3d98e949-0b5e-4e9b-b4c2-86dc7861eae5",
   "metadata": {},
   "source": [
    "## LASSO Regression"
   ]
  },
  {
   "cell_type": "code",
   "execution_count": 10,
   "id": "8460c9fc-ea3c-4206-8d53-7716445ade67",
   "metadata": {
    "tags": []
   },
   "outputs": [],
   "source": [
    "import warnings\n",
    "warnings.filterwarnings('ignore')\n",
    "Model_results = []"
   ]
  },
  {
   "cell_type": "code",
   "execution_count": 11,
   "id": "5b0d7cd1-c8ed-4a5e-938e-768639a5fbad",
   "metadata": {
    "tags": []
   },
   "outputs": [
    {
     "name": "stdout",
     "output_type": "stream",
     "text": [
      "alpha: 0.010000\n",
      "Variables Selected:\n",
      "Index(['Liked_By_Members', 'Quality_Of_Life_Score', 'Family_Score', 'Cost',\n",
      "       'Fun', 'Safety', 'Food_Safety', 'Lack_Of_Crime', 'Lack_Of_Racism',\n",
      "       'Vulnerability_To_Climate_Change', 'Income_Level', 'People_Density',\n",
      "       'Peace', 'Traffic_Safety', 'Hospitals', 'Places_To_Work_From',\n",
      "       'AC_Or_Heating', 'Freedom_Of_Speech', 'LGBTQ_Friendly', 'Startup_Score',\n",
      "       'Temperature_now_Farenheight',\n",
      "       'Temperature_now_Feels_Like_Farenheight'],\n",
      "      dtype='object')\n",
      "Variable Coefficients:\n",
      "[ 0.21621134  0.05557228 -0.          0.00974793 -0.         -0.\n",
      "  0.00262186  0.         -0.16319331  0.06016019 -0.32331945 -0.00049633\n",
      " -0.01236661  0.         -0.00763976 -0.00522093 -0.01644896  0.04298973\n",
      " -0.00931651 -0.         -0.00158604 -0.01740396  0.00412635  0.02896024\n",
      " -0.         -0.          0.         -0.          0.01933624  0.00188942\n",
      "  0.          0.          0.0460351  -0.          0.          0.0390817 ]\n"
     ]
    }
   ],
   "source": [
    "# define model evaluation method\n",
    "cv = RepeatedKFold(n_splits=10, n_repeats=3, random_state=1)\n",
    "\n",
    "# define model\n",
    "model = LassoCV(alphas=np.arange(0, 1, 0.01), cv=cv, n_jobs=-1)\n",
    "\n",
    "# fit model\n",
    "Lasso_model = model.fit(X_train, y_train)\n",
    "sfm = SelectFromModel(Lasso_model, prefit=True)\n",
    "X_train_selected = sfm.transform(X_train)\n",
    "\n",
    "# summarize chosen configuration\n",
    "print('alpha: %f' % model.alpha_)\n",
    "array = np.where(abs(Lasso_model.coef_) > 0)\n",
    "print(\"Variables Selected:\")\n",
    "print(X.iloc[:, [0,  1,  2,  4,  6, 10, 11, 12, 13, 16, 17, 19, 21, 22, 23, 27, 28,\n",
    "       30, 32, 33, 34, 35] ].columns)\n",
    "print(\"Variable Coefficients:\")\n",
    "print(Lasso_model.coef_)"
   ]
  },
  {
   "cell_type": "code",
   "execution_count": 12,
   "id": "204ff872-53e2-49ea-8b80-95feccd41ae2",
   "metadata": {
    "tags": []
   },
   "outputs": [
    {
     "name": "stdout",
     "output_type": "stream",
     "text": [
      "0.05852794433442192\n",
      "0.1796494666183691\n",
      "0.6575862644127026\n"
     ]
    }
   ],
   "source": [
    "y_pred = Lasso_model.predict(X_test)\n",
    "Lasso_mse = mean_squared_error(y_test, y_pred)\n",
    "Lasso_mae = mean_absolute_error(y_test, y_pred)\n",
    "Lasso_r2 = r2_score(y_test, y_pred)\n",
    "\n",
    "print(Lasso_mse)\n",
    "print(Lasso_mae)\n",
    "print(Lasso_r2)\n",
    "result = {'model': \"Lasso\", 'MSE': Lasso_mse, 'MAE': Lasso_mae, 'R^2': Lasso_r2}\n",
    "Model_results.append(result)"
   ]
  },
  {
   "cell_type": "markdown",
   "id": "78448521-7c08-4493-8b4b-9888064249be",
   "metadata": {},
   "source": [
    "## Ridge Regression"
   ]
  },
  {
   "cell_type": "code",
   "execution_count": 13,
   "id": "2b090d6c-6ecc-458a-9921-5bb14158be1b",
   "metadata": {
    "tags": []
   },
   "outputs": [
    {
     "name": "stdout",
     "output_type": "stream",
     "text": [
      "Variable Names:\n",
      "Index(['Liked_By_Members', 'Quality_Of_Life_Score', 'Family_Score',\n",
      "       'Community_Score', 'Cost', 'Internet', 'Fun', 'Humidity_now',\n",
      "       'Air_Quality_Now', 'Air_Quality_Annual', 'Safety', 'Food_Safety',\n",
      "       'Lack_Of_Crime', 'Lack_Of_Racism', 'Education_Level', 'Power_Grid',\n",
      "       'Vulnerability_To_Climate_Change', 'Income_Level', 'English_Speaking',\n",
      "       'People_Density', 'Walkability', 'Peace', 'Traffic_Safety', 'Hospitals',\n",
      "       'Happiness', 'Nightlife', 'Free_Wifi_In_City', 'Places_To_Work_From',\n",
      "       'AC_Or_Heating', 'Friendly_To_Foreigners', 'Freedom_Of_Speech',\n",
      "       'Female_Friendly', 'LGBTQ_Friendly', 'Startup_Score',\n",
      "       'Temperature_now_Farenheight',\n",
      "       'Temperature_now_Feels_Like_Farenheight'],\n",
      "      dtype='object')\n",
      "Variable Coefficients:\n",
      "[ 0.2209978   0.07016438  0.00520533  0.01537689  0.00085474 -0.00715422\n",
      "  0.06172217 -0.04081746 -0.19466848  0.08284827 -0.30795687 -0.00051047\n",
      " -0.017788    0.00770385 -0.03079796 -0.0295514  -0.02566978  0.04834634\n",
      " -0.05533121 -0.00519065 -0.00190311 -0.02059961  0.04375314  0.03370255\n",
      " -0.06771715 -0.00417332  0.00049134 -0.00118649  0.02822822  0.03215916\n",
      "  0.00066855  0.00161628  0.0640853  -0.00544254  0.01037423  0.06021007]\n"
     ]
    }
   ],
   "source": [
    "# list of alphas to check: 100 values from 0 to 5 with\n",
    "r_alphas = np.logspace(0, 5, 100)\n",
    "\n",
    "# initiate the cross validation over alphas\n",
    "ridge_model = RidgeCV(alphas=r_alphas, scoring='r2')\n",
    "\n",
    "# fit the model with the best alpha\n",
    "ridge_model = ridge_model.fit(X_train, y_train)\n",
    "\n",
    "print(\"Variable Names:\")\n",
    "print(X.columns)\n",
    "print(\"Variable Coefficients:\")\n",
    "print(ridge_model.coef_)"
   ]
  },
  {
   "cell_type": "code",
   "execution_count": 14,
   "id": "4ec0c2b8-e45b-4f37-a4d9-4b73d3fc8633",
   "metadata": {
    "tags": []
   },
   "outputs": [
    {
     "name": "stdout",
     "output_type": "stream",
     "text": [
      "0.06412181687463697\n",
      "0.1818396888116643\n",
      "0.624859695682563\n"
     ]
    }
   ],
   "source": [
    "y_pred = ridge_model.predict(X_test)\n",
    "ridge_mse = mean_squared_error(y_test, y_pred)\n",
    "ridge_mae = mean_absolute_error(y_test, y_pred)\n",
    "ridge_r2 = r2_score(y_test, y_pred)\n",
    "\n",
    "print(ridge_mse)\n",
    "print(ridge_mae)\n",
    "print(ridge_r2)\n",
    "result = {'model': \"Ridge\", 'MSE': ridge_mse, 'MAE': ridge_mae, 'R^2': ridge_r2}\n",
    "Model_results.append(result)"
   ]
  },
  {
   "cell_type": "markdown",
   "id": "a1bd233a-10dc-4a71-a32b-c27c8bbfa8d7",
   "metadata": {},
   "source": [
    "## Elastic Net"
   ]
  },
  {
   "cell_type": "code",
   "execution_count": 15,
   "id": "39997f7f-0767-4318-8f75-80b82c47348e",
   "metadata": {
    "tags": []
   },
   "outputs": [
    {
     "name": "stdout",
     "output_type": "stream",
     "text": [
      "alpha: 0.010000\n",
      "l1_ratio_: 0.650000\n",
      "Variables Selected:\n",
      "Index(['Liked_By_Members', 'Quality_Of_Life_Score', 'Family_Score',\n",
      "       'Community_Score', 'Cost', 'Fun', 'Humidity_now', 'Safety',\n",
      "       'Food_Safety', 'Lack_Of_Crime', 'Lack_Of_Racism', 'Education_Level',\n",
      "       'Vulnerability_To_Climate_Change', 'Income_Level', 'People_Density',\n",
      "       'Peace', 'Traffic_Safety', 'Hospitals', 'Free_Wifi_In_City',\n",
      "       'Places_To_Work_From', 'AC_Or_Heating', 'Friendly_To_Foreigners',\n",
      "       'Freedom_Of_Speech', 'LGBTQ_Friendly', 'Startup_Score',\n",
      "       'Temperature_now_Farenheight',\n",
      "       'Temperature_now_Feels_Like_Farenheight'],\n",
      "      dtype='object')\n",
      "Variable Coefficients:\n",
      "[ 0.2187353   0.05973085 -0.          0.01184481 -0.         -0.\n",
      "  0.01260833  0.         -0.17769725  0.06755425 -0.32063804 -0.00050041\n",
      " -0.0140535   0.         -0.01783715 -0.01273884 -0.01958887  0.04759247\n",
      " -0.02479259 -0.         -0.00170998 -0.01818775  0.01857942  0.03237296\n",
      " -0.00534641 -0.          0.         -0.          0.02199129  0.01276258\n",
      "  0.          0.          0.05371605 -0.00075772  0.0017443   0.04665287]\n"
     ]
    }
   ],
   "source": [
    "# define model evaluation method\n",
    "cv = RepeatedKFold(n_splits=10, n_repeats=3, random_state=1)\n",
    "\n",
    "# define model\n",
    "ratios = np.arange(0, 1, 0.01)\n",
    "alphas = [1e-5, 1e-4, 1e-3, 1e-2, 1e-1, 0.0, 1.0, 10.0, 100.0]\n",
    "ElasticNet_model = ElasticNetCV(l1_ratio=ratios, alphas=alphas, cv=cv, n_jobs=-1)\n",
    "\n",
    "# fit model\n",
    "ElasticNet_model.fit(X_train, y_train)\n",
    "\n",
    "# summarize chosen configuration\n",
    "print('alpha: %f' % ElasticNet_model.alpha_)\n",
    "print('l1_ratio_: %f' % ElasticNet_model.l1_ratio_)\n",
    "array = np.where(abs(ElasticNet_model.coef_) >0)\n",
    "print(\"Variables Selected:\")\n",
    "print(X.iloc[:, [ 0,  1,  2,  3,  4,  6,  7, 10, 11, 12, 13, 14, 16, 17, 19, 21, 22,\n",
    "       23, 26, 27, 28, 29, 30, 32, 33, 34, 35]].columns)\n",
    "print(\"Variable Coefficients:\")\n",
    "print(ElasticNet_model.coef_)"
   ]
  },
  {
   "cell_type": "code",
   "execution_count": 16,
   "id": "3b7a624e-0518-4000-8db3-490fb9ef3d8d",
   "metadata": {
    "tags": []
   },
   "outputs": [
    {
     "name": "stdout",
     "output_type": "stream",
     "text": [
      "0.05825083687639686\n",
      "0.17455594601909807\n",
      "0.6592074626444275\n"
     ]
    }
   ],
   "source": [
    "y_pred = ElasticNet_model.predict(X_test)\n",
    "ElasticNet_mse = mean_squared_error(y_test, y_pred)\n",
    "ElasticNet_mae = mean_absolute_error(y_test, y_pred)\n",
    "ElasticNet_r2 = r2_score(y_test, y_pred)\n",
    "\n",
    "print(ElasticNet_mse)\n",
    "print(ElasticNet_mae)\n",
    "print(ElasticNet_r2)\n",
    "result = {'model': \"Elastic Net\", 'MSE': ElasticNet_mse, 'MAE': ElasticNet_mae, 'R^2': ElasticNet_r2}\n",
    "Model_results.append(result)"
   ]
  },
  {
   "cell_type": "markdown",
   "id": "b5cb6396-f414-4022-bac1-355a2191607a",
   "metadata": {},
   "source": [
    "## PCA"
   ]
  },
  {
   "cell_type": "code",
   "execution_count": 17,
   "id": "e93b9cce-2087-499c-b166-1a9f5e850621",
   "metadata": {
    "tags": []
   },
   "outputs": [
    {
     "data": {
      "text/plain": [
       "(449, 36)"
      ]
     },
     "execution_count": 17,
     "metadata": {},
     "output_type": "execute_result"
    }
   ],
   "source": [
    "from sklearn.decomposition import PCA\n",
    "pca = PCA(n_components=33).fit(X_train)\n",
    "X_train_pca = pca.transform(X_train)\n",
    "X_test_pca = pca.transform(X_test)\n",
    "X_train.shape"
   ]
  },
  {
   "cell_type": "code",
   "execution_count": 18,
   "id": "f28638fc-ff2b-4300-88c4-45b8832f7b37",
   "metadata": {
    "tags": []
   },
   "outputs": [],
   "source": [
    "nums = np.arange(36)\n",
    "var_ratio = []\n",
    "for num in nums:\n",
    "  pca = PCA(n_components=num)\n",
    "  pca.fit(X_train)\n",
    "  var_ratio.append(np.sum(pca.explained_variance_ratio_))"
   ]
  },
  {
   "cell_type": "code",
   "execution_count": 19,
   "id": "d1e30dab-1ddd-4293-bbc7-e1d1df1f34ab",
   "metadata": {
    "tags": []
   },
   "outputs": [
    {
     "data": {
      "text/plain": [
       "Text(0.5, 1.0, 'n_components vs. Explained Variance Ratio')"
      ]
     },
     "execution_count": 19,
     "metadata": {},
     "output_type": "execute_result"
    },
    {
     "data": {
      "image/png": "[encoded data removed]",
      "text/plain": [
       "<Figure size 600x300 with 1 Axes>"
      ]
     },
     "metadata": {},
     "output_type": "display_data"
    }
   ],
   "source": [
    "plt.figure(figsize=(4,2),dpi=150)\n",
    "plt.grid()\n",
    "plt.plot(nums,var_ratio,marker='o')\n",
    "plt.xlabel('n_components')\n",
    "plt.ylabel('Explained variance Ratio')\n",
    "plt.title('n_components vs. Explained Variance Ratio')"
   ]
  },
  {
   "cell_type": "markdown",
   "id": "5471e971-b70b-41bf-be12-892a6dd045a4",
   "metadata": {},
   "source": [
    "LASSO PCA"
   ]
  },
  {
   "cell_type": "code",
   "execution_count": 20,
   "id": "e69f3c4a-1791-41ed-8ca2-8158d095caab",
   "metadata": {
    "tags": []
   },
   "outputs": [
    {
     "name": "stdout",
     "output_type": "stream",
     "text": [
      "alpha: 0.000000\n",
      "(array([ 0,  1,  2,  3,  4,  5,  6,  7,  8,  9, 10, 11, 12, 13, 14, 15, 16,\n",
      "       17, 18, 19, 20, 21, 22, 23, 24, 25, 26, 27, 28, 29, 30, 31, 32],\n",
      "      dtype=int64),)\n",
      "Variables Selected:\n",
      "Index(['Liked_By_Members', 'Quality_Of_Life_Score', 'Family_Score',\n",
      "       'Community_Score', 'Cost', 'Internet', 'Fun', 'Humidity_now',\n",
      "       'Air_Quality_Now', 'Air_Quality_Annual', 'Safety', 'Food_Safety',\n",
      "       'Lack_Of_Crime', 'Lack_Of_Racism', 'Education_Level', 'Power_Grid',\n",
      "       'Vulnerability_To_Climate_Change', 'Income_Level', 'English_Speaking',\n",
      "       'People_Density', 'Walkability', 'Peace', 'Traffic_Safety', 'Hospitals',\n",
      "       'Happiness', 'Nightlife', 'Free_Wifi_In_City', 'Places_To_Work_From',\n",
      "       'AC_Or_Heating', 'Friendly_To_Foreigners', 'Freedom_Of_Speech',\n",
      "       'Female_Friendly', 'LGBTQ_Friendly'],\n",
      "      dtype='object')\n",
      "Variable Coefficients:\n",
      "[-6.89600184e-05  1.89121257e-03 -3.70991111e-02  3.11080149e-02\n",
      "  1.20169344e-02 -1.32257775e-02  2.05920281e-02  4.73058094e-02\n",
      " -4.86840308e-02  5.00932345e-02  9.90037807e-03  8.42793237e-02\n",
      " -1.56677114e-02 -1.68428000e-01 -9.87117730e-03  1.39019565e-01\n",
      "  6.93078050e-02 -1.45097114e-01  9.87324329e-02 -1.13939463e-01\n",
      " -6.98377842e-02 -1.20477814e-01 -6.48375050e-03  6.93193084e-02\n",
      " -1.35721065e-01  1.03987240e-01 -9.47927207e-02 -9.81529970e-02\n",
      " -1.40837825e-01  1.27670769e-01 -1.53238252e-02  2.46196498e-02\n",
      "  2.01304516e-02]\n"
     ]
    }
   ],
   "source": [
    "# define model evaluation method\n",
    "cv = RepeatedKFold(n_splits=10, n_repeats=3, random_state=1)\n",
    "\n",
    "# define model\n",
    "model = LassoCV(alphas=np.arange(0, 1, 0.01), cv=cv, n_jobs=-1)\n",
    "\n",
    "# fit model\n",
    "Lasso_model_PCA = model.fit(X_train_pca, y_train)\n",
    "\n",
    "# summarize chosen configuration\n",
    "print('alpha: %f' % model.alpha_)\n",
    "array = np.where(abs(Lasso_model_PCA.coef_) >0)\n",
    "print(array)\n",
    "print(\"Variables Selected:\")\n",
    "print(X.iloc[:, [ 0,  1,  2,  3,  4,  5,  6,  7,  8,  9, 10, 11, 12, 13, 14, 15, 16,\n",
    "       17, 18, 19, 20, 21, 22, 23, 24, 25, 26, 27, 28, 29, 30, 31, 32]].columns)\n",
    "print(\"Variable Coefficients:\")\n",
    "print(Lasso_model_PCA.coef_)"
   ]
  },
  {
   "cell_type": "code",
   "execution_count": 21,
   "id": "71aa3e8a-bfcd-49ec-a626-35810c954b4a",
   "metadata": {
    "tags": []
   },
   "outputs": [
    {
     "name": "stdout",
     "output_type": "stream",
     "text": [
      "0.06387118843205176\n",
      "0.17891692171099227\n",
      "0.6263259802453638\n"
     ]
    }
   ],
   "source": [
    "y_pred = Lasso_model_PCA.predict(X_test_pca)\n",
    "Lasso_PCA_mse = mean_squared_error(y_test, y_pred)\n",
    "Lasso_PCA_mae = mean_absolute_error(y_test, y_pred)\n",
    "Lasso_PCA_r2 = r2_score(y_test, y_pred)\n",
    "\n",
    "print(Lasso_PCA_mse)\n",
    "print(Lasso_PCA_mae)\n",
    "print(Lasso_PCA_r2)\n",
    "result = {'model': \"PCA Lasso\", 'MSE': Lasso_PCA_mse, 'MAE': Lasso_PCA_mae, 'R^2': Lasso_PCA_r2}\n",
    "Model_results.append(result)"
   ]
  },
  {
   "cell_type": "markdown",
   "id": "5dbd696d-ee32-43ff-b9f7-5f5878522310",
   "metadata": {},
   "source": [
    "Ridge PCA"
   ]
  },
  {
   "cell_type": "code",
   "execution_count": 22,
   "id": "86a8a4eb-8bc3-43ab-8bb5-75c458b79476",
   "metadata": {
    "tags": []
   },
   "outputs": [],
   "source": [
    "# list of alphas to check: 100 values from 0 to 5 with\n",
    "r_alphas = np.logspace(0, 5, 100)\n",
    "\n",
    "# initiate the cross validation over alphas\n",
    "ridge_model = RidgeCV(alphas=r_alphas, scoring='r2')\n",
    "\n",
    "# fit the model with the best alpha\n",
    "ridge_model_PCA = ridge_model.fit(X_train_pca, y_train)"
   ]
  },
  {
   "cell_type": "code",
   "execution_count": 23,
   "id": "2736c1fd-f223-47ee-ba1d-bc31afef19f5",
   "metadata": {
    "tags": []
   },
   "outputs": [
    {
     "name": "stdout",
     "output_type": "stream",
     "text": [
      "0.06395755218470808\n",
      "0.18711700050207525\n",
      "0.6258207150168874\n"
     ]
    }
   ],
   "source": [
    "y_pred = ridge_model_PCA.predict(X_test_pca)\n",
    "Ridge_PCA_mse = mean_squared_error(y_test, y_pred)\n",
    "Ridge_PCA_mae = mean_absolute_error(y_test, y_pred)\n",
    "Ridge_PCA_r2 = r2_score(y_test, y_pred)\n",
    "\n",
    "print(Ridge_PCA_mse)\n",
    "print(Ridge_PCA_mae)\n",
    "print(Ridge_PCA_r2)\n",
    "result = {'model': \"PCA Ridge\", 'MSE': Ridge_PCA_mse, 'MAE': Ridge_PCA_mae, 'R^2': Ridge_PCA_r2}\n",
    "Model_results.append(result)"
   ]
  },
  {
   "cell_type": "markdown",
   "id": "e59f232e-ecd8-4129-ae6b-2b0ce24fc641",
   "metadata": {},
   "source": [
    "Elastic Net PCA"
   ]
  },
  {
   "cell_type": "code",
   "execution_count": 24,
   "id": "407bdb2b-559c-4072-b297-507b919a44c2",
   "metadata": {
    "tags": []
   },
   "outputs": [
    {
     "name": "stdout",
     "output_type": "stream",
     "text": [
      "alpha: 0.010000\n",
      "l1_ratio_: 0.390000\n",
      "Variables Selected:\n",
      "Index(['Liked_By_Members', 'Quality_Of_Life_Score', 'Family_Score',\n",
      "       'Community_Score', 'Cost', 'Internet', 'Fun', 'Humidity_now',\n",
      "       'Air_Quality_Now', 'Air_Quality_Annual', 'Safety', 'Food_Safety',\n",
      "       'Lack_Of_Crime', 'Lack_Of_Racism', 'Education_Level', 'Power_Grid',\n",
      "       'Vulnerability_To_Climate_Change', 'Income_Level', 'English_Speaking',\n",
      "       'People_Density', 'Walkability', 'Peace', 'Traffic_Safety', 'Hospitals',\n",
      "       'Happiness', 'Nightlife', 'Free_Wifi_In_City', 'Places_To_Work_From',\n",
      "       'AC_Or_Heating', 'Friendly_To_Foreigners', 'Freedom_Of_Speech',\n",
      "       'Female_Friendly', 'LGBTQ_Friendly'],\n",
      "      dtype='object')\n",
      "Variable Coefficients:\n",
      "[-6.87535583e-05  1.88441366e-03 -3.60985267e-02  2.97033464e-02\n",
      "  9.81974005e-03 -1.09529606e-02  1.80473998e-02  4.45107453e-02\n",
      " -4.55856416e-02  4.67638687e-02  6.55031101e-03  8.01713036e-02\n",
      " -1.16897903e-02 -1.63419025e-01 -5.39321835e-03  1.33571829e-01\n",
      "  6.39692194e-02 -1.38665679e-01  9.21505405e-02 -1.07054751e-01\n",
      " -6.24971828e-02 -1.11745863e-01 -0.00000000e+00  5.98209547e-02\n",
      " -1.24752088e-01  9.24815463e-02 -8.24396302e-02 -8.41010106e-02\n",
      " -1.24933550e-01  1.08598243e-01 -0.00000000e+00  4.87560986e-03\n",
      "  0.00000000e+00]\n"
     ]
    }
   ],
   "source": [
    "# define model evaluation method\n",
    "cv = RepeatedKFold(n_splits=10, n_repeats=3, random_state=1)\n",
    "\n",
    "# define model\n",
    "ratios = np.arange(0, 1, 0.01)\n",
    "alphas = [1e-5, 1e-4, 1e-3, 1e-2, 1e-1, 0.0, 1.0, 10.0, 100.0]\n",
    "ElasticNet_model_PCA = ElasticNetCV(l1_ratio=ratios, alphas=alphas, cv=cv, n_jobs=-1)\n",
    "\n",
    "# fit model\n",
    "ElasticNet_model_PCA.fit(X_train_pca, y_train)\n",
    "\n",
    "# summarize chosen configuration\n",
    "print('alpha: %f' % ElasticNet_model_PCA.alpha_)\n",
    "print('l1_ratio_: %f' % ElasticNet_model_PCA.l1_ratio_)\n",
    "array = np.where(abs(ElasticNet_model_PCA.coef_) >0)\n",
    "print(\"Variables Selected:\")\n",
    "print(X.iloc[:, [ 0,  1,  2,  3,  4,  5,  6,  7,  8,  9, 10, 11, 12, 13, 14, 15, 16,\n",
    "       17, 18, 19, 20, 21, 22, 23, 24, 25, 26, 27, 28, 29, 30, 31, 32]].columns)\n",
    "print(\"Variable Coefficients:\")\n",
    "print(ElasticNet_model_PCA.coef_)"
   ]
  },
  {
   "cell_type": "code",
   "execution_count": 25,
   "id": "4dc5a118-7f3d-4fb5-adb2-3579e2c41507",
   "metadata": {
    "tags": []
   },
   "outputs": [
    {
     "name": "stdout",
     "output_type": "stream",
     "text": [
      "MSE:  0.05825083687639686\n",
      "MAE:  0.17455594601909807\n",
      "R^2:  0.6592074626444275\n"
     ]
    }
   ],
   "source": [
    "y_pred = ElasticNet_model.predict(X_test)\n",
    "ElasticNet_PCA_mse = mean_squared_error(y_test, y_pred)\n",
    "ElasticNet_PCA_mae = mean_absolute_error(y_test, y_pred)\n",
    "ElasticNet_PCA_r2 = r2_score(y_test, y_pred)\n",
    "\n",
    "print('MSE: ', ElasticNet_PCA_mse)\n",
    "print('MAE: ', ElasticNet_PCA_mae)\n",
    "print('R^2: ', ElasticNet_PCA_r2)\n",
    "result = {'model': \"PCA Elastic Net\", 'MSE': ElasticNet_PCA_mse, 'MAE': ElasticNet_PCA_mae, 'R^2': ElasticNet_PCA_r2}\n",
    "Model_results.append(result)"
   ]
  },
  {
   "cell_type": "code",
   "execution_count": 26,
   "id": "18d054a5-1632-48b5-ae39-2c09c93b35c1",
   "metadata": {
    "tags": []
   },
   "outputs": [
    {
     "data": {
      "text/html": [
       "<div>\n",
       "<style scoped>\n",
       "    .dataframe tbody tr th:only-of-type {\n",
       "        vertical-align: middle;\n",
       "    }\n",
       "\n",
       "    .dataframe tbody tr th {\n",
       "        vertical-align: top;\n",
       "    }\n",
       "\n",
       "    .dataframe thead th {\n",
       "        text-align: right;\n",
       "    }\n",
       "</style>\n",
       "<table border=\"1\" class=\"dataframe\">\n",
       "  <thead>\n",
       "    <tr style=\"text-align: right;\">\n",
       "      <th></th>\n",
       "      <th>model</th>\n",
       "      <th>MSE</th>\n",
       "      <th>MAE</th>\n",
       "      <th>R^2</th>\n",
       "    </tr>\n",
       "  </thead>\n",
       "  <tbody>\n",
       "    <tr>\n",
       "      <th>0</th>\n",
       "      <td>Lasso</td>\n",
       "      <td>0.058528</td>\n",
       "      <td>0.179649</td>\n",
       "      <td>0.657586</td>\n",
       "    </tr>\n",
       "    <tr>\n",
       "      <th>1</th>\n",
       "      <td>Ridge</td>\n",
       "      <td>0.064122</td>\n",
       "      <td>0.181840</td>\n",
       "      <td>0.624860</td>\n",
       "    </tr>\n",
       "    <tr>\n",
       "      <th>2</th>\n",
       "      <td>Elastic Net</td>\n",
       "      <td>0.058251</td>\n",
       "      <td>0.174556</td>\n",
       "      <td>0.659207</td>\n",
       "    </tr>\n",
       "    <tr>\n",
       "      <th>3</th>\n",
       "      <td>PCA Lasso</td>\n",
       "      <td>0.063871</td>\n",
       "      <td>0.178917</td>\n",
       "      <td>0.626326</td>\n",
       "    </tr>\n",
       "    <tr>\n",
       "      <th>4</th>\n",
       "      <td>PCA Ridge</td>\n",
       "      <td>0.063958</td>\n",
       "      <td>0.187117</td>\n",
       "      <td>0.625821</td>\n",
       "    </tr>\n",
       "    <tr>\n",
       "      <th>5</th>\n",
       "      <td>PCA Elastic Net</td>\n",
       "      <td>0.058251</td>\n",
       "      <td>0.174556</td>\n",
       "      <td>0.659207</td>\n",
       "    </tr>\n",
       "  </tbody>\n",
       "</table>\n",
       "</div>"
      ],
      "text/plain": [
       "             model       MSE       MAE       R^2\n",
       "0            Lasso  0.058528  0.179649  0.657586\n",
       "1            Ridge  0.064122  0.181840  0.624860\n",
       "2      Elastic Net  0.058251  0.174556  0.659207\n",
       "3        PCA Lasso  0.063871  0.178917  0.626326\n",
       "4        PCA Ridge  0.063958  0.187117  0.625821\n",
       "5  PCA Elastic Net  0.058251  0.174556  0.659207"
      ]
     },
     "execution_count": 26,
     "metadata": {},
     "output_type": "execute_result"
    }
   ],
   "source": [
    "evaluation_df = pd.DataFrame(Model_results)\n",
    "evaluation_df"
   ]
  }
 ],
 "metadata": {
  "kernelspec": {
   "display_name": "Python 3 (ipykernel)",
   "language": "python",
   "name": "python3"
  },
  "language_info": {
   "codemirror_mode": {
    "name": "ipython",
    "version": 3
   },
   "file_extension": ".py",
   "mimetype": "text/x-python",
   "name": "python",
   "nbconvert_exporter": "python",
   "pygments_lexer": "ipython3",
   "version": "3.12.3"
  }
 },
 "nbformat": 4,
 "nbformat_minor": 5
}
